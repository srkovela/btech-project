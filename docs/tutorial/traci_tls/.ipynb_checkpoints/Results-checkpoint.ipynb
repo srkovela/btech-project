{
 "cells": [
  {
   "cell_type": "code",
   "execution_count": 20,
   "metadata": {
    "collapsed": true
   },
   "outputs": [],
   "source": [
    "import pandas as pd\n",
    "import numpy as np\n",
    "from xml.dom import minidom\n",
    "from IPython.display import display"
   ]
  },
  {
   "cell_type": "code",
   "execution_count": 24,
   "metadata": {
    "collapsed": true
   },
   "outputs": [],
   "source": [
    "def processData(filename):\n",
    "    xmldoc = minidom.parse(filename)\n",
    "    itemlist = xmldoc.getElementsByTagName('tripinfo')\n",
    "    departlist = []\n",
    "    durationlist = []\n",
    "    idlist = []\n",
    "    for s in itemlist:\n",
    "        departlist.append(float(s.attributes['depart'].value))\n",
    "        durationlist.append(float(s.attributes['duration'].value))\n",
    "        t = s.attributes['id'].value\n",
    "        t = t.split('#')\n",
    "        src = int(t[2])\n",
    "        des = int(t[3])\n",
    "        route_id = (src-1)*3+(des-8)\n",
    "        idlist.append(route_id)\n",
    "     \n",
    "    #print  len(durationlist),\" \",len(departlist)\n",
    "    df = pd.DataFrame({'depart_time':departlist,'duration':durationlist,'id':idlist})\n",
    "    return df"
   ]
  },
  {
   "cell_type": "code",
   "execution_count": 29,
   "metadata": {
    "collapsed": false
   },
   "outputs": [],
   "source": [
    "routingFilname = 'simtripinfo.xml'\n",
    "noRoutingFilename = 'simple-simtripinfo.xml'\n"
   ]
  },
  {
   "cell_type": "code",
   "execution_count": 28,
   "metadata": {
    "collapsed": false
   },
   "outputs": [
    {
     "data": {
      "text/plain": [
       "183.4261107848894"
      ]
     },
     "execution_count": 28,
     "metadata": {},
     "output_type": "execute_result"
    }
   ],
   "source": [
    "df = processData(routingFilename)\n",
    "display(df)\n",
    "np.mean(df['duration'])"
   ]
  },
  {
   "cell_type": "code",
   "execution_count": null,
   "metadata": {
    "collapsed": true
   },
   "outputs": [],
   "source": [
    "df = processData(noRoutingFilename)\n",
    "display(df)\n",
    "np.mean(df['duration'])"
   ]
  }
 ],
 "metadata": {
  "kernelspec": {
   "display_name": "Python 2",
   "language": "python",
   "name": "python2"
  },
  "language_info": {
   "codemirror_mode": {
    "name": "ipython",
    "version": 2
   },
   "file_extension": ".py",
   "mimetype": "text/x-python",
   "name": "python",
   "nbconvert_exporter": "python",
   "pygments_lexer": "ipython2",
   "version": "2.7.12"
  }
 },
 "nbformat": 4,
 "nbformat_minor": 0
}
